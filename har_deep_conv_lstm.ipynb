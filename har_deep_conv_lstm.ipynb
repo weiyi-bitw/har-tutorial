{
 "cells": [
  {
   "cell_type": "markdown",
   "metadata": {},
   "source": [
    "# Human Activity Recognition Using Deep Convolutional Network + LSTM"
   ]
  },
  {
   "cell_type": "markdown",
   "metadata": {},
   "source": [
    "In this tutorial, we will build a convolutional network + LSTM to do human activity recognition using the smart phone sensor data from the [WISDM](http://dl.acm.org/citation.cfm?doid=1964897.1964918) lab."
   ]
  },
  {
   "cell_type": "markdown",
   "metadata": {},
   "source": [
    "## Prerequisite"
   ]
  },
  {
   "cell_type": "markdown",
   "metadata": {},
   "source": [
    "### Define paths\n",
    "\n",
    "We will define the project path so it will be easy to refer to files we need for building models. "
   ]
  },
  {
   "cell_type": "code",
   "execution_count": 1,
   "metadata": {
    "collapsed": true
   },
   "outputs": [],
   "source": [
    "PRJ_DIR = \"/home/har/har-tutorial\""
   ]
  },
  {
   "cell_type": "markdown",
   "metadata": {},
   "source": [
    "### Import modules"
   ]
  },
  {
   "cell_type": "markdown",
   "metadata": {},
   "source": [
    "First, we need to load the conda environment so we can use the user-specificlibraries. The only way I know how to do this within the jupyter notebook is by inserting the environment paths in `sys.path`"
   ]
  },
  {
   "cell_type": "code",
   "execution_count": 2,
   "metadata": {
    "collapsed": true
   },
   "outputs": [],
   "source": [
    "import os\n",
    "import sys\n",
    "\n",
    "%matplotlib inline\n",
    "\n",
    "import matplotlib.pyplot as plt\n",
    "import numpy as np\n",
    "import pandas as pd\n",
    "import pickle"
   ]
  },
  {
   "cell_type": "markdown",
   "metadata": {},
   "source": [
    "We will use the [Keras](http://keras.io) library to build the deep learning model. It is a very straightforward wrapper around the popular tensor-based library [Theano](http://deeplearning.net/software/theano/introduction.html) and Google's [TensorFlow](https://www.tensorflow.org/). The user just need to connect the layers, the library will build the low-level parameters and operations by calling the backend libraries. Eventually the model is translated into C++ code for speed."
   ]
  },
  {
   "cell_type": "markdown",
   "metadata": {},
   "source": [
    "### Use Theano backend.\n",
    "\n",
    "If you are running these stuff for the first time, you should also execute the following command to setup the keras configuration. It by default uses Tensorflow backend, but the virtualenv does not have Tensorflow installed. We will use Theano backend."
   ]
  },
  {
   "cell_type": "code",
   "execution_count": 4,
   "metadata": {},
   "outputs": [],
   "source": [
    "import keras\n",
    "from keras.models import Sequential\n",
    "from keras.layers import (\n",
    "    Activation, BatchNormalization, Dense, Dropout, Flatten,\n",
    "    Conv2D, MaxPooling2D, LSTM, Permute, Reshape\n",
    ")\n",
    "from keras.optimizers import RMSprop\n",
    "from keras.regularizers import l1_l2\n",
    "from keras.utils import np_utils"
   ]
  },
  {
   "cell_type": "markdown",
   "metadata": {
    "collapsed": true
   },
   "source": [
    "Now, `deepsense` is a python library for processing HAR datasets. It also includes some scripts to train models. We will use the classes in the library to manipulate the [WISDM dataset](http://www.cis.fordham.edu/wisdm/dataset.php#actitracker)."
   ]
  },
  {
   "cell_type": "markdown",
   "metadata": {},
   "source": [
    "## Read data set\n",
    "\n",
    "Most time we are spending when building a machine learning model is in two things:\n",
    "\n",
    "  1. Cleaning and consolidating data set\n",
    "  2. Tuning parameters\n",
    "  \n",
    "I have previously re-formatting the WISDM data set into training-ready format. Everything is wrapped within a [`pickle`](https://docs.python.org/2/library/pickle.html) file. "
   ]
  },
  {
   "cell_type": "code",
   "execution_count": 20,
   "metadata": {
    "collapsed": true
   },
   "outputs": [],
   "source": [
    "X, y, meta, ACTIVITY_MAPPING = pickle.load(\n",
    "    open(os.path.join(PRJ_DIR, \"data/wisdm_subset.pkl\"), \"rb\")\n",
    ")"
   ]
  },
  {
   "cell_type": "markdown",
   "metadata": {},
   "source": [
    "The pickle file contains following information:"
   ]
  },
  {
   "cell_type": "markdown",
   "metadata": {},
   "source": [
    "#### Data matrices: `X` and `y`\n",
    "\n",
    "The transformed `numpy.ndarray` that can directly fed to the model\n",
    "\n",
    "  * `X` : the sensor data of size (`num_samples`, `window_size`, `num_channels`)\n",
    "  * `y` : the array of labeled activities for each window of size (`num_samples`)\n",
    "\n",
    "To transform the data from what you see in `wisdm.df` to `wisdm.X`, we first applied a resampling and denoising filter of frequency 20 Hz to the data, and then we applied a moving window of 4 seconds, with stride length 1 second to the signal. Therefore, the dimension of the training set is:\n",
    "\n",
    "  * `window_size = 80` (4 seconds * 20 Hz)\n",
    "  * `num_channels = 3` \n",
    "\n",
    "Another important aspect in the matrix transformation is that for convergence purpose, we transformed the input values to [-1, 1]. To do that, we divided the original acceleration measurement $(m/s^2)$ by $3g$, and capped off values that's $>1$ or $<-1$."
   ]
  },
  {
   "cell_type": "code",
   "execution_count": 21,
   "metadata": {},
   "outputs": [
    {
     "name": "stdout",
     "output_type": "stream",
     "text": [
      "Shape of X: (1200, 80, 3)\n",
      "Shape of y: (1200,)\n"
     ]
    }
   ],
   "source": [
    "print(\"Shape of X: {}\".format(X.shape))\n",
    "print(\"Shape of y: {}\".format(y.shape))"
   ]
  },
  {
   "cell_type": "markdown",
   "metadata": {},
   "source": [
    "#### Meta data: `meta`\n",
    "\n",
    "A data frame that connects the matrices back to the annotation, including the randomly split training and test set label (20% of test)."
   ]
  },
  {
   "cell_type": "code",
   "execution_count": 22,
   "metadata": {
    "scrolled": true
   },
   "outputs": [
    {
     "data": {
      "text/html": [
       "<div>\n",
       "<table border=\"1\" class=\"dataframe\">\n",
       "  <thead>\n",
       "    <tr style=\"text-align: right;\">\n",
       "      <th></th>\n",
       "      <th>activity</th>\n",
       "      <th>begin</th>\n",
       "      <th>subject_id</th>\n",
       "      <th>r_std</th>\n",
       "      <th>set</th>\n",
       "    </tr>\n",
       "  </thead>\n",
       "  <tbody>\n",
       "    <tr>\n",
       "      <th>817</th>\n",
       "      <td>Jogging</td>\n",
       "      <td>2008-01-10 21:28:30.200</td>\n",
       "      <td>646</td>\n",
       "      <td>3.677376</td>\n",
       "      <td>train</td>\n",
       "    </tr>\n",
       "    <tr>\n",
       "      <th>1093</th>\n",
       "      <td>Standing</td>\n",
       "      <td>2013-08-22 20:17:52.250</td>\n",
       "      <td>1775</td>\n",
       "      <td>0.018878</td>\n",
       "      <td>test</td>\n",
       "    </tr>\n",
       "    <tr>\n",
       "      <th>1041</th>\n",
       "      <td>Walking</td>\n",
       "      <td>2008-01-10 21:31:12.150</td>\n",
       "      <td>726</td>\n",
       "      <td>2.413375</td>\n",
       "      <td>test</td>\n",
       "    </tr>\n",
       "    <tr>\n",
       "      <th>241</th>\n",
       "      <td>Standing</td>\n",
       "      <td>2013-01-06 06:56:42.850</td>\n",
       "      <td>1246</td>\n",
       "      <td>0.008883</td>\n",
       "      <td>train</td>\n",
       "    </tr>\n",
       "    <tr>\n",
       "      <th>673</th>\n",
       "      <td>Walking</td>\n",
       "      <td>2011-10-24 18:13:07.750</td>\n",
       "      <td>635</td>\n",
       "      <td>1.946268</td>\n",
       "      <td>train</td>\n",
       "    </tr>\n",
       "    <tr>\n",
       "      <th>941</th>\n",
       "      <td>Walking</td>\n",
       "      <td>2011-10-13 18:08:50.450</td>\n",
       "      <td>655</td>\n",
       "      <td>1.255016</td>\n",
       "      <td>train</td>\n",
       "    </tr>\n",
       "    <tr>\n",
       "      <th>216</th>\n",
       "      <td>Sitting</td>\n",
       "      <td>2013-07-12 13:40:40.150</td>\n",
       "      <td>1603</td>\n",
       "      <td>0.015777</td>\n",
       "      <td>train</td>\n",
       "    </tr>\n",
       "    <tr>\n",
       "      <th>778</th>\n",
       "      <td>Standing</td>\n",
       "      <td>2013-06-04 17:40:35.550</td>\n",
       "      <td>194</td>\n",
       "      <td>0.020224</td>\n",
       "      <td>train</td>\n",
       "    </tr>\n",
       "    <tr>\n",
       "      <th>952</th>\n",
       "      <td>Walking</td>\n",
       "      <td>2013-09-17 17:30:08.050</td>\n",
       "      <td>1104</td>\n",
       "      <td>2.072712</td>\n",
       "      <td>train</td>\n",
       "    </tr>\n",
       "    <tr>\n",
       "      <th>1051</th>\n",
       "      <td>Walking</td>\n",
       "      <td>2013-01-07 19:08:25.850</td>\n",
       "      <td>1274</td>\n",
       "      <td>0.015441</td>\n",
       "      <td>test</td>\n",
       "    </tr>\n",
       "  </tbody>\n",
       "</table>\n",
       "</div>"
      ],
      "text/plain": [
       "      activity                   begin  subject_id     r_std    set\n",
       "817    Jogging 2008-01-10 21:28:30.200         646  3.677376  train\n",
       "1093  Standing 2013-08-22 20:17:52.250        1775  0.018878   test\n",
       "1041   Walking 2008-01-10 21:31:12.150         726  2.413375   test\n",
       "241   Standing 2013-01-06 06:56:42.850        1246  0.008883  train\n",
       "673    Walking 2011-10-24 18:13:07.750         635  1.946268  train\n",
       "941    Walking 2011-10-13 18:08:50.450         655  1.255016  train\n",
       "216    Sitting 2013-07-12 13:40:40.150        1603  0.015777  train\n",
       "778   Standing 2013-06-04 17:40:35.550         194  0.020224  train\n",
       "952    Walking 2013-09-17 17:30:08.050        1104  2.072712  train\n",
       "1051   Walking 2013-01-07 19:08:25.850        1274  0.015441   test"
      ]
     },
     "execution_count": 22,
     "metadata": {},
     "output_type": "execute_result"
    }
   ],
   "source": [
    "meta.sample(10)"
   ]
  },
  {
   "cell_type": "markdown",
   "metadata": {},
   "source": [
    "#### Activity map: `ACTIVITY_MAPPING`\n",
    "\n",
    "The mapping between the code in `y` and the actual activity name."
   ]
  },
  {
   "cell_type": "code",
   "execution_count": 23,
   "metadata": {
    "scrolled": true
   },
   "outputs": [
    {
     "data": {
      "text/plain": [
       "{'Jogging': 5,\n",
       " 'LyingDown': 3,\n",
       " 'Sitting': 1,\n",
       " 'Stairs': 2,\n",
       " 'Standing': 0,\n",
       " 'Walking': 4}"
      ]
     },
     "execution_count": 23,
     "metadata": {},
     "output_type": "execute_result"
    }
   ],
   "source": [
    "ACTIVITY_MAPPING"
   ]
  },
  {
   "cell_type": "markdown",
   "metadata": {},
   "source": [
    "### Splitting the data set\n",
    "\n",
    "We now split the data set into training and testing based on the index in the metadata. The testing set will not be used in learning weights in the network in any way. We will only use it to evaluate if our model is overfitting and select a stopping point for training.\n",
    "\n",
    "Note that we convert the matrix to float 32 for the benefit of running it on GPU."
   ]
  },
  {
   "cell_type": "code",
   "execution_count": 24,
   "metadata": {},
   "outputs": [
    {
     "data": {
      "text/plain": [
       "array([4, 5, 1, ..., 0, 4, 5])"
      ]
     },
     "execution_count": 24,
     "metadata": {},
     "output_type": "execute_result"
    }
   ],
   "source": [
    "y"
   ]
  },
  {
   "cell_type": "code",
   "execution_count": 25,
   "metadata": {},
   "outputs": [],
   "source": [
    "train_idx = meta[meta[\"set\"] == \"train\"].index.values\n",
    "test_idx = meta[meta[\"set\"] == \"test\"].index.values\n",
    "\n",
    "X_train = X[train_idx].astype(np.float32)\n",
    "y_train = y[train_idx].astype(np.float32)\n",
    "X_test = X[test_idx]\n",
    "y_test = y[test_idx]"
   ]
  },
  {
   "cell_type": "markdown",
   "metadata": {},
   "source": [
    "Given that `y` is categorical, we also have to convert the vector of activity code into a matrix using one-hot encoding"
   ]
  },
  {
   "cell_type": "code",
   "execution_count": 26,
   "metadata": {
    "collapsed": true
   },
   "outputs": [],
   "source": [
    "nb_classes = len(ACTIVITY_MAPPING) # number of activities \n",
    "\n",
    "Y_train = np_utils.to_categorical(y_train, nb_classes).astype(np.float32)\n",
    "Y_test = np_utils.to_categorical(y_test, nb_classes).astype(np.float32)"
   ]
  },
  {
   "cell_type": "markdown",
   "metadata": {},
   "source": [
    "## Build a model"
   ]
  },
  {
   "cell_type": "markdown",
   "metadata": {},
   "source": [
    "Now let's build a deep learning model!"
   ]
  },
  {
   "cell_type": "markdown",
   "metadata": {},
   "source": [
    "### Set model parameters\n",
    "\n",
    "Let's first define some parameters"
   ]
  },
  {
   "cell_type": "code",
   "execution_count": 56,
   "metadata": {
    "collapsed": true
   },
   "outputs": [],
   "source": [
    "batch_size = 16\n",
    "nb_epoch = 10 # only train for 10 iteration\n",
    "num_channels = 3 # x, y, z\n",
    "sliding_window_length = 80 # 4-second window * 20 Hz sampling rate\n",
    "\n",
    "num_conv_filters = 32 # number of convolutional filters\n",
    "conv_filter_size = 3 # size of the convolutional filters\n",
    "num_lstm_units = 64 # number of LSTM units"
   ]
  },
  {
   "cell_type": "markdown",
   "metadata": {},
   "source": [
    "The `Sequential` model is the simplest way to connect layers: one after another. We will use it to build our network. Our goal is to build something like this:\n",
    "\n",
    "![](../figures/cnn_annot.png)\n",
    "\n",
    "This structure idea was taken from [this paper](https://www.ncbi.nlm.nih.gov/pubmed/26797612) (original source code [here](https://github.com/sussexwearlab/DeepConvLSTM), but it uses another wrapper library called [Lasagne](https://github.com/Lasagne/Lasagne)), where they use Conv + LSTM for gesture and locomotion recognition based on sensor data from various location in human body. Here I simplified it and added a few other layers to speed up the training."
   ]
  },
  {
   "cell_type": "code",
   "execution_count": 51,
   "metadata": {},
   "outputs": [],
   "source": [
    "model = Sequential()\n",
    "\n",
    "# 4 layers of conv\n",
    "model.add(Conv2D(filters=num_conv_filters, kernel_size=(conv_filter_size, 1),\n",
    "                input_shape=(sliding_window_length, num_channels, 1)))\n",
    "model.add(BatchNormalization(axis=3))\n",
    "model.add(Activation(\"relu\"))\n",
    "\n",
    "model.add(Conv2D(filters=num_conv_filters, kernel_size=(conv_filter_size, 1)))\n",
    "model.add(BatchNormalization(axis=3))\n",
    "model.add(Activation(\"relu\"))\n",
    "\n",
    "model.add(MaxPooling2D(pool_size=(2, 1)))\n",
    "\n",
    "model.add(Conv2D(filters=2*num_conv_filters, kernel_size=(conv_filter_size, 1)))\n",
    "model.add(BatchNormalization(axis=3))\n",
    "model.add(Activation(\"relu\"))\n",
    "\n",
    "model.add(Conv2D(filters=2*num_conv_filters, kernel_size=(conv_filter_size, 1)))\n",
    "model.add(BatchNormalization(axis=3))\n",
    "model.add(Activation(\"relu\"))\n",
    "\n",
    "model.add(MaxPooling2D(pool_size=(2, 1)))\n",
    "\n",
    "model.add(Reshape((model.output_shape[1],\n",
    "                   model.output_shape[2] * model.output_shape[3])))\n",
    "\n",
    "# 2 layers of lstm\n",
    "model.add(Dropout(0.5))\n",
    "model.add(LSTM(num_lstm_units, return_sequences=True))\n",
    "\n",
    "model.add(Dropout(0.5))\n",
    "model.add(LSTM(num_lstm_units))\n",
    "model.add(Dense(nb_classes,\n",
    "                kernel_regularizer=l1_l2(l1=1e-2, l2=1e-2),\n",
    "                activation=\"softmax\"))"
   ]
  },
  {
   "cell_type": "markdown",
   "metadata": {},
   "source": [
    "You can access the number of parameters and the shape of output in each layer by the `.summary()` function."
   ]
  },
  {
   "cell_type": "code",
   "execution_count": 52,
   "metadata": {
    "scrolled": true
   },
   "outputs": [
    {
     "name": "stdout",
     "output_type": "stream",
     "text": [
      "_________________________________________________________________\n",
      "Layer (type)                 Output Shape              Param #   \n",
      "=================================================================\n",
      "conv2d_37 (Conv2D)           (None, 78, 3, 32)         128       \n",
      "_________________________________________________________________\n",
      "batch_normalization_34 (Batc (None, 78, 3, 32)         128       \n",
      "_________________________________________________________________\n",
      "activation_34 (Activation)   (None, 78, 3, 32)         0         \n",
      "_________________________________________________________________\n",
      "conv2d_38 (Conv2D)           (None, 76, 3, 32)         3104      \n",
      "_________________________________________________________________\n",
      "batch_normalization_35 (Batc (None, 76, 3, 32)         128       \n",
      "_________________________________________________________________\n",
      "activation_35 (Activation)   (None, 76, 3, 32)         0         \n",
      "_________________________________________________________________\n",
      "max_pooling2d_15 (MaxPooling (None, 38, 3, 32)         0         \n",
      "_________________________________________________________________\n",
      "conv2d_39 (Conv2D)           (None, 36, 3, 64)         6208      \n",
      "_________________________________________________________________\n",
      "batch_normalization_36 (Batc (None, 36, 3, 64)         256       \n",
      "_________________________________________________________________\n",
      "activation_36 (Activation)   (None, 36, 3, 64)         0         \n",
      "_________________________________________________________________\n",
      "conv2d_40 (Conv2D)           (None, 34, 3, 64)         12352     \n",
      "_________________________________________________________________\n",
      "batch_normalization_37 (Batc (None, 34, 3, 64)         256       \n",
      "_________________________________________________________________\n",
      "activation_37 (Activation)   (None, 34, 3, 64)         0         \n",
      "_________________________________________________________________\n",
      "max_pooling2d_16 (MaxPooling (None, 17, 3, 64)         0         \n",
      "_________________________________________________________________\n",
      "reshape_7 (Reshape)          (None, 17, 192)           0         \n",
      "_________________________________________________________________\n",
      "dropout_12 (Dropout)         (None, 17, 192)           0         \n",
      "_________________________________________________________________\n",
      "lstm_12 (LSTM)               (None, 17, 64)            65792     \n",
      "_________________________________________________________________\n",
      "dropout_13 (Dropout)         (None, 17, 64)            0         \n",
      "_________________________________________________________________\n",
      "lstm_13 (LSTM)               (None, 64)                33024     \n",
      "_________________________________________________________________\n",
      "dense_5 (Dense)              (None, 6)                 390       \n",
      "=================================================================\n",
      "Total params: 121,766\n",
      "Trainable params: 121,382\n",
      "Non-trainable params: 384\n",
      "_________________________________________________________________\n"
     ]
    }
   ],
   "source": [
    "model.summary()"
   ]
  },
  {
   "cell_type": "markdown",
   "metadata": {},
   "source": [
    "### Convolutional layers\n",
    "\n",
    "The convolutional layer has a sparse connection to the adjecent units:\n",
    "\n",
    "![](http://deeplearning.net/tutorial/_images/conv_1D_nn.png)\n",
    "\n",
    "In the figure above, lines with same color correspond to the same weight. \n",
    "\n",
    "For activation, the convolution layers use Rectified Linear Unit (ReLU), which is shown to have [better convergence](http://www.cs.toronto.edu/~fritz/absps/imagenet.pdf) than `tanh` function.\n",
    "\n",
    "![](http://cs231n.github.io/assets/nn1/relu.jpeg)\n",
    "\n",
    "You can see the first convolutional layer contains \n",
    "\n",
    "$$ 32 \\text{ feature maps (or convolutional units)} \\times 3 \\text{ (convolutional filter size)} + 32 \\text{ bias} = 128 \\text{ parameters}$$\n",
    "\n",
    "Similarly, the second layer contains \n",
    "\n",
    "$$ 32 \\times 32 \\times 3 + 32 = 3104 \\text{ parameters} $$"
   ]
  },
  {
   "cell_type": "markdown",
   "metadata": {},
   "source": [
    "### Batch normalization layer\n",
    "\n",
    "According to [this paper](https://arxiv.org/pdf/1502.03167v3.pdf) from Google, a batch normalization layer can reduce internal covariate shift between layers and thus reduce the convergence time and might eliminatethe need for Dropout. Each unit in batch normailzation calculates the mean and standard deviation in the mini batch and shift the input by\n",
    "\n",
    "$$ y = \\gamma x + \\beta$$\n",
    "\n",
    "Therefore, the unmber of parameter is $2 \\times 32 = 64$ in the first BatchNormalization layer."
   ]
  },
  {
   "cell_type": "markdown",
   "metadata": {},
   "source": [
    "### Max pooling layer\n",
    "\n",
    "A max pooling layer parttions input into non-overlapping rectangles and output the maximum in each subregion. It reduces the data size and thus speed up the computation. Usually the pooling size is 2, too much pooling may result in loss of too much information. "
   ]
  },
  {
   "cell_type": "markdown",
   "metadata": {},
   "source": [
    "### LSTM layer\n",
    "\n",
    "Long short-term memory (LSTM) layer is one of the most widely used recurrent neural network (RNN) layer. The units in the recurrent neural network forms directed cycles which allow them to exhibit temporal behavior. Therefore we often see the application of RNNs in sequential data such as [handwriting recognition](https://arxiv.org/pdf/1312.4569.pdf), [speech recognition](https://www.microsoft.com/en-us/research/publication/lstm-time-and-frequency-recurrence-for-automatic-speech-recognition/), or [sentimental analysis](http://deeplearning.net/tutorial/lstm.html).\n",
    "\n",
    "A LSTM unit is different from other RNN unit in the sense that it has a forget gate:\n",
    "\n",
    "![](http://deeplearning.net/tutorial/_images/lstm_memorycell.png)\n",
    "\n",
    "For each of the unit at time $t$, it involves the following calculation:\n",
    "\n",
    "  * Input gate \n",
    "      $$i_t = \\sigma(W_ix_t + U_i h_{t-1} + b_i)$$\n",
    "  \n",
    "  * Candidate value for the state of memory cell \n",
    "      $$\\tilde{C}_t = tanh(W_cx_t + U_ch_{t-1} + b_c)$$\n",
    "  \n",
    "  * Activation of forget cell\n",
    "      $$f_t = \\sigma(W_fx_t + U_fh_{t-1} + b_f)$$\n",
    "  \n",
    "  * The state of memory cell \n",
    "      $$C_t = i_t \\tilde{C}_t + f_t C_{t-1}$$\n",
    "  \n",
    "  * Output gate\n",
    "      $$o_t = \\sigma(W_ox_t + U_o h_{t-1} + b_o)$$\n",
    "  \n",
    "  * Output \n",
    "      $$h_t = o_t tanh(C_t)$$\n",
    "\n",
    "The above calculations involve the following parameters:\n",
    "  * $W$ : weight vector of `input_size`\n",
    "  * $U$ : weight vector of `output_size`\n",
    "  * $b$ : a scalar of bias\n",
    "\n",
    "Therefore, for instance, the first LSTM layer involves\n",
    "\n",
    "$(64 + 192 + 1) \\times 64 \\text{ units} \\times 4 (\\text{input gate, candidate state, forget, output gate}) = 65792$ parameters,\n",
    "\n",
    "and the second LSTM layer involves \n",
    "\n",
    "$(64 + 64 + 1) \\times 64 \\times 4 = 33024$ parameters"
   ]
  },
  {
   "cell_type": "markdown",
   "metadata": {},
   "source": [
    "### Dropout layer\n",
    "\n",
    "Large number of parameters tends to overfit the training data, the number of parameters in deep neural network is gigantic. One simple technique that is offen used to prevent overfitting is to insert a [dropout](http://www.cs.toronto.edu/~rsalakhu/papers/srivastava14a.pdf) layer in between fully connected layers (_e.g._ LSTM). A dropout layer randomly set a fraction `p` of input units to 0 at each update during training time: \n",
    "\n",
    "![](../figures/dropout.png)"
   ]
  },
  {
   "cell_type": "markdown",
   "metadata": {},
   "source": [
    "## Configure model for training\n",
    "\n",
    "With the model structure in place, we will configure the training methods for the model."
   ]
  },
  {
   "cell_type": "code",
   "execution_count": 53,
   "metadata": {
    "collapsed": true
   },
   "outputs": [],
   "source": [
    "rmsprop = RMSprop()\n",
    "model.compile(loss=\"categorical_crossentropy\",\n",
    "              optimizer=rmsprop,\n",
    "              metrics=[\"accuracy\"])"
   ]
  },
  {
   "cell_type": "markdown",
   "metadata": {},
   "source": [
    "### Choose optimizer\n",
    "\n",
    "Optimizers are basically a gradient descent algorithm used for optimizing the weights during each update. Here we will use the `RMSProp` optimizer as it is suggested to be [a good choice for recurrent neural networks](https://keras.io/optimizers/#rmsprop). A list of other optimizers and their formulation can be found in [this](http://sebastianruder.com/optimizing-gradient-descent/index.html)  great blog post. "
   ]
  },
  {
   "cell_type": "markdown",
   "metadata": {},
   "source": [
    "### `compile`\n",
    "\n",
    "Although the name might be misleading, this function does not really start compiling the model into C++ code, instead just setting more training behavior. Here we use the categorical [crossentropy](https://en.wikipedia.org/wiki/Cross_entropy) as the target value to optimize. In each iteration (or as the deep learning guys like to call it, the `epoch`) we will also output the prediction accuracy as output. "
   ]
  },
  {
   "cell_type": "markdown",
   "metadata": {},
   "source": [
    "## Finally ... we start training"
   ]
  },
  {
   "cell_type": "markdown",
   "metadata": {},
   "source": [
    "... but before that, since we are using a 2-D convolutional network here, we will have to reshape our input into `(num_samples, 1, sliding_window_length, num_channels)` to conform with the input shape of our network."
   ]
  },
  {
   "cell_type": "code",
   "execution_count": 54,
   "metadata": {
    "collapsed": true
   },
   "outputs": [],
   "source": [
    "X_train = X_train.reshape(-1, sliding_window_length, num_channels, 1)\n",
    "X_test = X_test.reshape(-1, sliding_window_length, num_channels, 1)"
   ]
  },
  {
   "cell_type": "markdown",
   "metadata": {},
   "source": [
    "And for time's sake. Let's just train on a subset of samples: 20,000 training, and 1,000 testing"
   ]
  },
  {
   "cell_type": "markdown",
   "metadata": {},
   "source": [
    "And now we can train"
   ]
  },
  {
   "cell_type": "code",
   "execution_count": 57,
   "metadata": {},
   "outputs": [
    {
     "name": "stdout",
     "output_type": "stream",
     "text": [
      "Train on 1000 samples, validate on 200 samples\n",
      "Epoch 1/10\n",
      "1000/1000 [==============================] - 8s - loss: 0.9488 - acc: 0.7830 - val_loss: 3.5989 - val_acc: 0.1450\n",
      "Epoch 2/10\n",
      "1000/1000 [==============================] - 7s - loss: 0.9003 - acc: 0.7950 - val_loss: 3.3000 - val_acc: 0.1450\n",
      "Epoch 3/10\n",
      "1000/1000 [==============================] - 7s - loss: 0.8083 - acc: 0.8110 - val_loss: 3.1368 - val_acc: 0.1450\n",
      "Epoch 4/10\n",
      "1000/1000 [==============================] - 9s - loss: 0.7708 - acc: 0.8030 - val_loss: 2.1967 - val_acc: 0.2650\n",
      "Epoch 5/10\n",
      "1000/1000 [==============================] - 8s - loss: 0.7113 - acc: 0.8190 - val_loss: 1.7404 - val_acc: 0.4900\n",
      "Epoch 6/10\n",
      "1000/1000 [==============================] - 7s - loss: 0.6885 - acc: 0.8170 - val_loss: 1.6718 - val_acc: 0.5150\n",
      "Epoch 7/10\n",
      "1000/1000 [==============================] - 7s - loss: 0.6830 - acc: 0.8240 - val_loss: 1.1067 - val_acc: 0.6700\n",
      "Epoch 8/10\n",
      "1000/1000 [==============================] - 7s - loss: 0.6594 - acc: 0.8300 - val_loss: 1.3308 - val_acc: 0.6350\n",
      "Epoch 9/10\n",
      "1000/1000 [==============================] - 8s - loss: 0.6772 - acc: 0.8200 - val_loss: 0.8961 - val_acc: 0.7500\n",
      "Epoch 10/10\n",
      "1000/1000 [==============================] - 8s - loss: 0.6604 - acc: 0.8230 - val_loss: 0.8676 - val_acc: 0.7350\n"
     ]
    }
   ],
   "source": [
    "history = model.fit(X_train, Y_train,\n",
    "                    batch_size=batch_size,\n",
    "                    epochs=nb_epoch,\n",
    "                    validation_data=(X_test, Y_test),\n",
    "                    shuffle=True)\n"
   ]
  },
  {
   "cell_type": "markdown",
   "metadata": {},
   "source": [
    "You can see the validation loss was originally very high. At some point it starts to drop significantly, which is a characteristic when you use BatchNormalization layer (based on my personal experience). At 10th epoch, you already get around 80% validation accuracy.\n",
    "\n",
    "We can make predictions for new data by doing:"
   ]
  },
  {
   "cell_type": "code",
   "execution_count": 58,
   "metadata": {},
   "outputs": [
    {
     "data": {
      "text/plain": [
       "0.73499999999999999"
      ]
     },
     "execution_count": 58,
     "metadata": {},
     "output_type": "execute_result"
    }
   ],
   "source": [
    "Y_test_pred = model.predict(X_test)\n",
    "\n",
    "y_test_pred = np.apply_along_axis(lambda r: np.argmax(r), 1, Y_test_pred)\n",
    "\n",
    "# calculate the accuracy of the prediction\n",
    "np.mean(y_test_pred == y_test)"
   ]
  },
  {
   "cell_type": "markdown",
   "metadata": {},
   "source": [
    "We can plot the validation loss progression from the output from the `fit` function."
   ]
  },
  {
   "cell_type": "code",
   "execution_count": 59,
   "metadata": {
    "scrolled": true
   },
   "outputs": [
    {
     "data": {
      "text/plain": [
       "[<matplotlib.lines.Line2D at 0x7f6cdaaff310>]"
      ]
     },
     "execution_count": 59,
     "metadata": {},
     "output_type": "execute_result"
    },
    {
     "data": {
      "image/png": "[encoded data removed]",
      "text/plain": [
       "<matplotlib.figure.Figure at 0x7f6cdaaff950>"
      ]
     },
     "metadata": {},
     "output_type": "display_data"
    }
   ],
   "source": [
    "fig, ax = plt.subplots()\n",
    "ax.plot(history.history[\"val_loss\"])"
   ]
  },
  {
   "cell_type": "markdown",
   "metadata": {},
   "source": [
    "## More\n",
    "\n",
    "For other techniques for training model you may go through the following links:\n",
    "\n",
    "* Callback functions: [`ModelCheckpoint`](https://keras.io/callbacks/#modelcheckpoint), [`ReduceLROnPlateau`](https://keras.io/callbacks/#reducelronplateau), and [`EarlyStopping`](https://keras.io/callbacks/#earlystopping) are quite useful\n",
    "* Hyperparameter search using `sklearn`'s [`GridSearchCV`](http://scikit-learn.org/stable/modules/generated/sklearn.model_selection.GridSearchCV.html#sklearn.model_selection.GridSearchCV) function. An example can be found in `kera`'s [example script](https://github.com/fchollet/keras/blob/master/examples/mnist_sklearn_wrapper.py).\n",
    "* Parallelization: [`mxnet`](https://github.com/dmlc/mxnet) or [Spark](https://databricks.com/blog/2016/01/25/deep-learning-with-apache-spark-and-tensorflow.html)\n",
    "* An nice overview on available deep learning library out there (more focused on python): [My Top 9 Favorite Python Deep Learning Libraries](http://www.pyimagesearch.com/2016/06/27/my-top-9-favorite-python-deep-learning-libraries/)"
   ]
  }
 ],
 "metadata": {
  "kernelspec": {
   "display_name": "Python 2",
   "language": "python",
   "name": "python2"
  },
  "language_info": {
   "codemirror_mode": {
    "name": "ipython",
    "version": 2
   },
   "file_extension": ".py",
   "mimetype": "text/x-python",
   "name": "python",
   "nbconvert_exporter": "python",
   "pygments_lexer": "ipython2",
   "version": "2.7.12"
  }
 },
 "nbformat": 4,
 "nbformat_minor": 1
}
